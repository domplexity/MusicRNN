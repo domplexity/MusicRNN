{
 "cells": [
  {
   "cell_type": "code",
   "execution_count": 1,
   "metadata": {},
   "outputs": [],
   "source": [
    "import numpy as np\n",
    "import matplotlib.pyplot as plt\n",
    "%matplotlib inline\n",
    "import os                                                                                                             "
   ]
  },
  {
   "cell_type": "code",
   "execution_count": 2,
   "metadata": {},
   "outputs": [],
   "source": [
    "def print_logs(dir):                                                                                                                                                                                                          \n",
    "    subdirs = [x[0] for x in os.walk(dir) if x[0] is not dir] \n",
    "    for subdir in subdirs:\n",
    "        files = [x[2] for x in os.walk(subdir)]\n",
    "        for file in files[0]:\n",
    "            if file.endswith(\".npy\"):\n",
    "                filepath = subdir + '/' + file\n",
    "                log = np.load(filepath)\n",
    "                plt.figure(figsize=(15,10))\n",
    "                plt.plot(log[:,0])\n",
    "                plt.plot(log[:,1], color='red')\n",
    "                plt.title(str(subdir)) \n",
    "                plt.savefig(subdir + '/' + 'lossplot.png')\n",
    "                plt.close()\n",
    "                plt.figure(figsize=(15,10))\n",
    "                plt.plot(log[:,3])\n",
    "                plt.title(str(subdir) + ' Learning Rate Decay') \n",
    "                plt.savefig(subdir + '/' + 'learning_rate.png')\n",
    "                plt.close()\n",
    "                plt.figure(figsize=(15,10))\n",
    "                plt.plot(log[:,2])\n",
    "                plt.title(str(subdir) + ' Perplexity') \n",
    "                plt.savefig(subdir + '/' + 'perplexity.png')\n",
    "                plt.close()"
   ]
  },
  {
   "cell_type": "code",
   "execution_count": 3,
   "metadata": {},
   "outputs": [],
   "source": [
    "print_logs('output')"
   ]
  },
  {
   "cell_type": "code",
   "execution_count": null,
   "metadata": {},
   "outputs": [],
   "source": []
  }
 ],
 "metadata": {
  "kernelspec": {
   "display_name": "Python 3",
   "language": "python",
   "name": "python3"
  },
  "language_info": {
   "codemirror_mode": {
    "name": "ipython",
    "version": 3
   },
   "file_extension": ".py",
   "mimetype": "text/x-python",
   "name": "python",
   "nbconvert_exporter": "python",
   "pygments_lexer": "ipython3",
   "version": "3.6.1"
  },
  "toc": {
   "nav_menu": {},
   "number_sections": true,
   "sideBar": false,
   "skip_h1_title": false,
   "toc_cell": false,
   "toc_position": {},
   "toc_section_display": "block",
   "toc_window_display": false
  }
 },
 "nbformat": 4,
 "nbformat_minor": 2
}
